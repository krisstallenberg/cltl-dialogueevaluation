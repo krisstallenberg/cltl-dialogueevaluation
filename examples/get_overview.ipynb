{
 "cells": [
  {
   "cell_type": "code",
   "execution_count": 1,
   "id": "bfdaf592-fe6c-4f05-8aa2-022131c4ab79",
   "metadata": {
    "tags": []
   },
   "outputs": [],
   "source": [
    "import pandas as pd"
   ]
  },
  {
   "cell_type": "code",
   "execution_count": 2,
   "id": "bb4d3680-6553-4963-8e00-d3ccc0e3b7df",
   "metadata": {
    "tags": []
   },
   "outputs": [],
   "source": [
    "import glob"
   ]
  },
  {
   "cell_type": "code",
   "execution_count": 10,
   "id": "d4d03598-d341-4af1-96e7-fa9a262d7be2",
   "metadata": {
    "tags": []
   },
   "outputs": [
    {
     "name": "stdout",
     "output_type": "stream",
     "text": [
      "/Users/piek/Desktop/t-MA-Combots-2023/assignments/interactions/submissions-1/zula-dian/09a34b6d-f725-45ed-8cdc-3ce3d9d87ea8/evaluation/09a34b6d-f725-45ed-8cdc-3ce3d9d87ea8_meta_data.csv\n",
      "Error nr. of fields: 1 ['']\n",
      "Error nr. of fields: 1 ['']\n",
      "Error nr. of fields: 1 ['']\n",
      "Error nr. of fields: 1 ['']\n",
      "/Users/piek/Desktop/t-MA-Combots-2023/assignments/interactions/submissions-1/joe-mohammed/b31bc5b8-3cfa-4eb6-86c8-028fd7b8533b/evaluation/b31bc5b8-3cfa-4eb6-86c8-028fd7b8533b_meta_data.csv\n",
      "Error nr. of fields: 1 ['']\n",
      "Error nr. of fields: 1 ['']\n",
      "Error nr. of fields: 1 ['']\n",
      "Error nr. of fields: 1 ['']\n",
      "/Users/piek/Desktop/t-MA-Combots-2023/assignments/interactions/submissions-1/arthur-daan/84c30449-a2ff-41d5-87ef-56cd385ad493/evaluation/84c30449-a2ff-41d5-87ef-56cd385ad493_meta_data.csv\n",
      "Error nr. of fields: 1 ['']\n",
      "Error nr. of fields: 1 ['']\n",
      "Error nr. of fields: 1 ['']\n",
      "Error nr. of fields: 1 ['']\n",
      "/Users/piek/Desktop/t-MA-Combots-2023/assignments/interactions/submissions-1/carla-sidi/f8c76fab-70e0-4d7f-930d-e8825273b062/evaluation/f8c76fab-70e0-4d7f-930d-e8825273b062_meta_data.csv\n",
      "Error nr. of fields: 1 ['']\n",
      "Error nr. of fields: 1 ['']\n",
      "Error nr. of fields: 1 ['']\n",
      "Error nr. of fields: 1 ['']\n",
      "/Users/piek/Desktop/t-MA-Combots-2023/assignments/interactions/submissions-1/marie-alexia/4aae4db3-d067-4560-b033-abb69ae63e15/evaluation/4aae4db3-d067-4560-b033-abb69ae63e15_meta_data.csv\n",
      "Error nr. of fields: 1 ['']\n",
      "Error nr. of fields: 1 ['']\n",
      "Error nr. of fields: 1 ['']\n",
      "Error nr. of fields: 1 ['']\n",
      "/Users/piek/Desktop/t-MA-Combots-2023/assignments/interactions/submissions-1/marie-alexia/37d85f93-2bf8-46c9-acf8-b846fb1916c3/evaluation/37d85f93-2bf8-46c9-acf8-b846fb1916c3_meta_data.csv\n",
      "Error nr. of fields: 1 ['']\n",
      "Error nr. of fields: 1 ['']\n",
      "Error nr. of fields: 1 ['']\n",
      "Error nr. of fields: 1 ['']\n",
      "/Users/piek/Desktop/t-MA-Combots-2023/assignments/interactions/submissions-1/marie-alexia/f33f67ac-e344-424e-8d89-0d1fe89b2eb1/evaluation/f33f67ac-e344-424e-8d89-0d1fe89b2eb1_meta_data.csv\n",
      "Error nr. of fields: 1 ['']\n",
      "Error nr. of fields: 1 ['']\n",
      "Error nr. of fields: 1 ['']\n",
      "Error nr. of fields: 1 ['']\n",
      "/Users/piek/Desktop/t-MA-Combots-2023/assignments/interactions/submissions-1/angus-mark/d12980a8-43aa-4683-889d-1c1d8065c05b/evaluation/d12980a8-43aa-4683-889d-1c1d8065c05b_meta_data.csv\n",
      "Error nr. of fields: 1 ['']\n",
      "Error nr. of fields: 1 ['']\n",
      "Error nr. of fields: 1 ['']\n",
      "Error nr. of fields: 1 ['']\n",
      "/Users/piek/Desktop/t-MA-Combots-2023/assignments/interactions/submissions-1/angus-mark/e180760a-6a2c-4336-ac58-4d20573299d6/evaluation/e180760a-6a2c-4336-ac58-4d20573299d6_meta_data.csv\n",
      "Error nr. of fields: 1 ['']\n",
      "Error nr. of fields: 1 ['']\n",
      "Error nr. of fields: 1 ['']\n",
      "Error nr. of fields: 1 ['']\n",
      "/Users/piek/Desktop/t-MA-Combots-2023/assignments/interactions/submissions-1/angus-mark/5da6108d-fe08-4278-89e5-60a93c5d58ba/evaluation/5da6108d-fe08-4278-89e5-60a93c5d58ba_meta_data.csv\n",
      "Error nr. of fields: 1 ['']\n",
      "Error nr. of fields: 1 ['']\n",
      "Error nr. of fields: 1 ['']\n",
      "Error nr. of fields: 1 ['']\n",
      "/Users/piek/Desktop/t-MA-Combots-2023/assignments/interactions/submissions-1/angus-mark/5d89bd79-5c18-407c-b5f5-2f2c4adfe362/evaluation/5d89bd79-5c18-407c-b5f5-2f2c4adfe362_meta_data.csv\n",
      "Error nr. of fields: 1 ['']\n",
      "Error nr. of fields: 1 ['']\n",
      "Error nr. of fields: 1 ['']\n",
      "Error nr. of fields: 1 ['']\n",
      "/Users/piek/Desktop/t-MA-Combots-2023/assignments/interactions/submissions-1/angus-mark/20c44c44-fe88-4e41-be57-6a62d8de4dc1/evaluation/20c44c44-fe88-4e41-be57-6a62d8de4dc1_meta_data.csv\n",
      "Error nr. of fields: 1 ['']\n",
      "Error nr. of fields: 1 ['']\n",
      "Error nr. of fields: 1 ['']\n",
      "Error nr. of fields: 1 ['']\n",
      "/Users/piek/Desktop/t-MA-Combots-2023/assignments/interactions/submissions-1/frederique-kuhu/ef8bbb59-fd11-43de-a48c-1368a5a74285/evaluation/ef8bbb59-fd11-43de-a48c-1368a5a74285_meta_data.csv\n",
      "Error nr. of fields: 1 ['']\n",
      "Error nr. of fields: 1 ['']\n",
      "Error nr. of fields: 1 ['']\n",
      "Error nr. of fields: 1 ['']\n",
      "/Users/piek/Desktop/t-MA-Combots-2023/assignments/interactions/submissions-1/carl-niels/a164ff5b-565e-45b6-8a2c-d5db1c81769c/evaluation/a164ff5b-565e-45b6-8a2c-d5db1c81769c_meta_data.csv\n",
      "Error nr. of fields: 1 ['']\n",
      "Error nr. of fields: 1 ['']\n",
      "Error nr. of fields: 1 ['']\n",
      "Error nr. of fields: 1 ['']\n",
      "/Users/piek/Desktop/t-MA-Combots-2023/assignments/interactions/submissions-1/hermann-edward/aa6761ad-7ffb-43d7-af81-d5b966042daf/evaluation/aa6761ad-7ffb-43d7-af81-d5b966042daf_meta_data.csv\n",
      "Error nr. of fields: 1 ['']\n",
      "Error nr. of fields: 1 ['']\n",
      "Error nr. of fields: 1 ['']\n",
      "Error nr. of fields: 1 ['']\n"
     ]
    }
   ],
   "source": [
    "#/Users/piek/Desktop/t-MA-Combots-2023/assignments/interactions/submissions-1/carla-sidi/f8c76fab-70e0-4d7f-930d-e8825273b062/evaluation\n",
    "\n",
    "folder = \"/Users/piek/Desktop/t-MA-Combots-2023/assignments/interactions/submissions-1\"\n",
    "interaction = \"/submissions-1\"\n",
    "stat_dict = {}\n",
    "scenario_dict={}\n",
    "columns=[\"Label\"]\n",
    "\n",
    "for f in glob.glob(folder+\"/*/*/evaluation/*_meta_data.csv\"):\n",
    "    file = open(f, 'r')\n",
    "    print(file.name)\n",
    "    scenario = file.name\n",
    "    columns.append(scenario)\n",
    "    lines = [x.strip() for x in file.readlines()]\n",
    "    anno_type = \"General\"\n",
    "    if anno_type in stat_dict:\n",
    "        scenario_dict = stat_dict.get(anno_type)\n",
    "    else:\n",
    "        scenario_dict={} \n",
    "    for fields in lines:\n",
    "        #print(fields)\n",
    "        if type(fields)==str:\n",
    "            fields = fields.split('\\t')\n",
    "        if len(fields)==1 and len(fields[0])>0:\n",
    "            ### we are getting a new type of annotation\n",
    "            #print(\"Saving the current data for:\", anno_type)\n",
    "            stat_dict[anno_type]=scenario_dict\n",
    "            anno_type = fields[0]\n",
    "            #print(\"Getting data for the new anno_type:[\", anno_type, \"]\", fields)\n",
    "            if anno_type in stat_dict:\n",
    "                scenario_dict = stat_dict.get(anno_type)\n",
    "            else:\n",
    "                scenario_dict={}\n",
    "        elif len(fields)==2:\n",
    "            col = fields[0]\n",
    "            value = fields[1]\n",
    "            #print(anno_type, 'col', col, 'value', value)\n",
    "            if col in scenario_dict:\n",
    "                scenario_dict[col].append((scenario,value))\n",
    "            else:\n",
    "                scenario_dict[col]= [(scenario,value)]\n",
    "        else:\n",
    "            print('Error nr. of fields:', len(fields),fields)\n",
    "            continue\n",
    "\n",
    "#print('columns', columns)\n",
    "\n"
   ]
  },
  {
   "cell_type": "code",
   "execution_count": 13,
   "id": "444e09ec-df8d-4755-a20c-4dc35a60b565",
   "metadata": {
    "tags": []
   },
   "outputs": [
    {
     "ename": "AttributeError",
     "evalue": "'DataFrame' object has no attribute 'append'",
     "output_type": "error",
     "traceback": [
      "\u001b[0;31m---------------------------------------------------------------------------\u001b[0m",
      "\u001b[0;31mAttributeError\u001b[0m                            Traceback (most recent call last)",
      "\u001b[0;32m/var/folders/6w/bw7dqbl9727c48pcjjh32r140000gn/T/ipykernel_34648/857705601.py\u001b[0m in \u001b[0;36m?\u001b[0;34m()\u001b[0m\n\u001b[1;32m      7\u001b[0m         \u001b[0;32mfor\u001b[0m \u001b[0mvalue\u001b[0m \u001b[0;32min\u001b[0m \u001b[0mvalues\u001b[0m\u001b[0;34m:\u001b[0m\u001b[0;34m\u001b[0m\u001b[0;34m\u001b[0m\u001b[0m\n\u001b[1;32m      8\u001b[0m             \u001b[0mscenario\u001b[0m\u001b[0;34m=\u001b[0m \u001b[0mvalue\u001b[0m\u001b[0;34m[\u001b[0m\u001b[0;36m0\u001b[0m\u001b[0;34m]\u001b[0m\u001b[0;34m\u001b[0m\u001b[0;34m\u001b[0m\u001b[0m\n\u001b[1;32m      9\u001b[0m             \u001b[0mcount\u001b[0m \u001b[0;34m=\u001b[0m \u001b[0mvalue\u001b[0m\u001b[0;34m[\u001b[0m\u001b[0;36m1\u001b[0m\u001b[0;34m]\u001b[0m\u001b[0;34m\u001b[0m\u001b[0;34m\u001b[0m\u001b[0m\n\u001b[1;32m     10\u001b[0m             \u001b[0mrow\u001b[0m\u001b[0;34m.\u001b[0m\u001b[0mupdate\u001b[0m\u001b[0;34m(\u001b[0m\u001b[0;34m{\u001b[0m\u001b[0mscenario\u001b[0m \u001b[0;34m:\u001b[0m \u001b[0mcount\u001b[0m\u001b[0;34m}\u001b[0m\u001b[0;34m)\u001b[0m\u001b[0;34m\u001b[0m\u001b[0;34m\u001b[0m\u001b[0m\n\u001b[0;32m---> 11\u001b[0;31m         \u001b[0mdfall\u001b[0m \u001b[0;34m=\u001b[0m \u001b[0mdfall\u001b[0m\u001b[0;34m.\u001b[0m\u001b[0mappend\u001b[0m\u001b[0;34m(\u001b[0m\u001b[0mrow\u001b[0m\u001b[0;34m,\u001b[0m \u001b[0mignore_index\u001b[0m\u001b[0;34m=\u001b[0m\u001b[0;32mTrue\u001b[0m\u001b[0;34m)\u001b[0m\u001b[0;34m\u001b[0m\u001b[0;34m\u001b[0m\u001b[0m\n\u001b[0m\u001b[1;32m     12\u001b[0m     \u001b[0mdfall\u001b[0m\u001b[0;34m.\u001b[0m\u001b[0mto_csv\u001b[0m\u001b[0;34m(\u001b[0m\u001b[0minteraction\u001b[0m\u001b[0;34m+\u001b[0m\u001b[0;34m\"_\"\u001b[0m\u001b[0;34m+\u001b[0m\u001b[0mkey\u001b[0m\u001b[0;34m+\u001b[0m\u001b[0;34m\".csv\"\u001b[0m\u001b[0;34m)\u001b[0m\u001b[0;34m\u001b[0m\u001b[0;34m\u001b[0m\u001b[0m\n\u001b[1;32m     13\u001b[0m     \u001b[0;31m#print(dfall.info())\u001b[0m\u001b[0;34m\u001b[0m\u001b[0;34m\u001b[0m\u001b[0m\n",
      "\u001b[0;32m~/.pyenv/versions/3.9.16/lib/python3.9/site-packages/pandas/core/generic.py\u001b[0m in \u001b[0;36m?\u001b[0;34m(self, name)\u001b[0m\n\u001b[1;32m   5985\u001b[0m             \u001b[0;32mand\u001b[0m \u001b[0mname\u001b[0m \u001b[0;32mnot\u001b[0m \u001b[0;32min\u001b[0m \u001b[0mself\u001b[0m\u001b[0;34m.\u001b[0m\u001b[0m_accessors\u001b[0m\u001b[0;34m\u001b[0m\u001b[0;34m\u001b[0m\u001b[0m\n\u001b[1;32m   5986\u001b[0m             \u001b[0;32mand\u001b[0m \u001b[0mself\u001b[0m\u001b[0;34m.\u001b[0m\u001b[0m_info_axis\u001b[0m\u001b[0;34m.\u001b[0m\u001b[0m_can_hold_identifiers_and_holds_name\u001b[0m\u001b[0;34m(\u001b[0m\u001b[0mname\u001b[0m\u001b[0;34m)\u001b[0m\u001b[0;34m\u001b[0m\u001b[0;34m\u001b[0m\u001b[0m\n\u001b[1;32m   5987\u001b[0m         ):\n\u001b[1;32m   5988\u001b[0m             \u001b[0;32mreturn\u001b[0m \u001b[0mself\u001b[0m\u001b[0;34m[\u001b[0m\u001b[0mname\u001b[0m\u001b[0;34m]\u001b[0m\u001b[0;34m\u001b[0m\u001b[0;34m\u001b[0m\u001b[0m\n\u001b[0;32m-> 5989\u001b[0;31m         \u001b[0;32mreturn\u001b[0m \u001b[0mobject\u001b[0m\u001b[0;34m.\u001b[0m\u001b[0m__getattribute__\u001b[0m\u001b[0;34m(\u001b[0m\u001b[0mself\u001b[0m\u001b[0;34m,\u001b[0m \u001b[0mname\u001b[0m\u001b[0;34m)\u001b[0m\u001b[0;34m\u001b[0m\u001b[0;34m\u001b[0m\u001b[0m\n\u001b[0m",
      "\u001b[0;31mAttributeError\u001b[0m: 'DataFrame' object has no attribute 'append'"
     ]
    }
   ],
   "source": [
    "for key in stat_dict.keys():\n",
    "    dfall = pd.DataFrame(columns=columns)\n",
    "    #dfall.update\n",
    "    anno_dict = stat_dict.get(key)\n",
    "    for anno in anno_dict.keys():\n",
    "        values = anno_dict.get(anno)\n",
    "        row = {'Label' : anno}\n",
    "        for value in values:\n",
    "            scenario= value[0]\n",
    "            count = value[1]\n",
    "            row.update({scenario : count})\n",
    "        dfall = dfall.append(row, ignore_index=True)\n",
    "    dfall.to_csv(interaction+\"_\"+key+\".csv\")    \n",
    "    #print(dfall.info())"
   ]
  },
  {
   "cell_type": "code",
   "execution_count": null,
   "id": "3fea8e57-784c-4477-9c16-cf317cc467cc",
   "metadata": {},
   "outputs": [],
   "source": []
  }
 ],
 "metadata": {
  "kernelspec": {
   "display_name": "Python 3",
   "language": "python",
   "name": "python3"
  },
  "language_info": {
   "codemirror_mode": {
    "name": "ipython",
    "version": 3
   },
   "file_extension": ".py",
   "mimetype": "text/x-python",
   "name": "python",
   "nbconvert_exporter": "python",
   "pygments_lexer": "ipython3",
   "version": "3.9.16"
  }
 },
 "nbformat": 4,
 "nbformat_minor": 5
}
